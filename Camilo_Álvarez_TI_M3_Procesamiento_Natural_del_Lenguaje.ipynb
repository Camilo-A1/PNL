{
 "cells": [
  {
   "cell_type": "markdown",
   "source": [
    "\n",
    "## Preprocesamiento de Datos"
   ],
   "metadata": {
    "collapsed": false
   }
  },
  {
   "cell_type": "code",
   "execution_count": 1,
   "outputs": [],
   "source": [
    "# Se importan librerías\n",
    "import pandas as pd\n",
    "import numpy as np\n",
    "import nltk\n",
    "from nltk.corpus import stopwords\n",
    "from nltk.tokenize import RegexpTokenizer\n",
    "from nltk.stem import WordNetLemmatizer, SnowballStemmer\n",
    "from sklearn.feature_extraction.text import TfidfVectorizer\n",
    "from sklearn.model_selection import train_test_split\n",
    "import matplotlib.pyplot as plt\n",
    "import spacy"
   ],
   "metadata": {
    "collapsed": false,
    "ExecuteTime": {
     "end_time": "2023-07-24T04:07:59.225425700Z",
     "start_time": "2023-07-24T04:07:51.991475500Z"
    }
   }
  },
  {
   "cell_type": "code",
   "execution_count": 2,
   "outputs": [],
   "source": [
    "# Modelo en español de spaCy\n",
    "nlp = spacy.load('es_core_news_sm')\n",
    "\n",
    "# Lectura de los datos\n",
    "data = pd.read_csv('comentarios.csv', sep=',')\n",
    "comentarios = ' '.join(data['comentario'])"
   ],
   "metadata": {
    "collapsed": false,
    "ExecuteTime": {
     "end_time": "2023-07-24T04:07:59.735997300Z",
     "start_time": "2023-07-24T04:07:59.233720700Z"
    }
   }
  },
  {
   "cell_type": "markdown",
   "source": [
    "### Limpieza, tokenización y reducción del vocabulario"
   ],
   "metadata": {
    "collapsed": false
   }
  },
  {
   "cell_type": "code",
   "execution_count": 3,
   "outputs": [],
   "source": [
    "# Función para limpieza y tokenización\n",
    "def limpiar_tokenizar(text):\n",
    "    # Patrón de expresión regular para tokenización\n",
    "    pattern = '\\w+|:\\)|:\\(|[^.,;\\s]'\n",
    "    # Tokenización utilizando RegexpTokenizer\n",
    "    tokenizer = RegexpTokenizer(pattern)\n",
    "    tokens = tokenizer.tokenize(text)\n",
    "    # Limpieza de tokens\n",
    "    stop_words = set(stopwords.words('spanish'))\n",
    "    tokens = [token.lower() for token in tokens if token.lower() not in stop_words]\n",
    "    return tokens"
   ],
   "metadata": {
    "collapsed": false,
    "ExecuteTime": {
     "end_time": "2023-07-24T04:07:59.749010Z",
     "start_time": "2023-07-24T04:07:59.735997300Z"
    }
   }
  },
  {
   "cell_type": "code",
   "execution_count": 4,
   "outputs": [],
   "source": [
    "# Función para lematizar tokens\n",
    "def lematizar_texto(tokens):\n",
    "    lemas = []\n",
    "    for token in tokens:\n",
    "        doc = nlp(token)\n",
    "        lemas.append(doc[0].lemma_)\n",
    "    return lemas\n",
    "\n",
    "# Función para stemming tokens\n",
    "def stem_texto(tokens):\n",
    "    stemmer = SnowballStemmer('spanish')\n",
    "    raices = [stemmer.stem(token) for token in tokens]\n",
    "    return raices"
   ],
   "metadata": {
    "collapsed": false,
    "ExecuteTime": {
     "end_time": "2023-07-24T04:07:59.781631300Z",
     "start_time": "2023-07-24T04:07:59.753010Z"
    }
   }
  },
  {
   "cell_type": "code",
   "execution_count": 5,
   "outputs": [],
   "source": [
    "# Se aplican las funciones a data\n",
    "data['tokens'] = data['comentario'].apply(limpiar_tokenizar)\n",
    "data['lemas'] = data['tokens'].apply(lematizar_texto)\n",
    "data['raices'] = data['tokens'].apply(stem_texto)"
   ],
   "metadata": {
    "collapsed": false,
    "ExecuteTime": {
     "end_time": "2023-07-24T04:09:12.921439Z",
     "start_time": "2023-07-24T04:07:59.770630900Z"
    }
   }
  },
  {
   "cell_type": "code",
   "execution_count": 6,
   "outputs": [
    {
     "data": {
      "text/plain": "   orden                                         comentario   tipo  \\\n0      1                                No les creo nada ,    malo   \n1      2                          Está bonita la camioneta   bueno   \n2      3                             Quiero más información   info   \n3      4            :( igual el crédito ha de ser muuuucho    malo   \n4      5  Quisiera, más información, pero nadie me respo...   info   \n\n                                     tokens  \\\n0                                    [creo]   \n1                       [bonita, camioneta]   \n2                     [quiero, información]   \n3       [:(, igual, crédito, ser, muuuucho]   \n4  [quisiera, información, nadie, responde]   \n\n                                     lemas                             raices  \n0                                  [creer]                              [cre]  \n1                      [bonito, camioneta]                  [bonit, camionet]  \n2                    [querer, información]                    [quier, inform]  \n3      [:(, igual, crédito, ser, muuuucho]  [:(, igual, credit, ser, muuuuch]  \n4  [querer, información, nadie, responder]      [quis, inform, nadi, respond]  ",
      "text/html": "<div>\n<style scoped>\n    .dataframe tbody tr th:only-of-type {\n        vertical-align: middle;\n    }\n\n    .dataframe tbody tr th {\n        vertical-align: top;\n    }\n\n    .dataframe thead th {\n        text-align: right;\n    }\n</style>\n<table border=\"1\" class=\"dataframe\">\n  <thead>\n    <tr style=\"text-align: right;\">\n      <th></th>\n      <th>orden</th>\n      <th>comentario</th>\n      <th>tipo</th>\n      <th>tokens</th>\n      <th>lemas</th>\n      <th>raices</th>\n    </tr>\n  </thead>\n  <tbody>\n    <tr>\n      <th>0</th>\n      <td>1</td>\n      <td>No les creo nada ,</td>\n      <td>malo</td>\n      <td>[creo]</td>\n      <td>[creer]</td>\n      <td>[cre]</td>\n    </tr>\n    <tr>\n      <th>1</th>\n      <td>2</td>\n      <td>Está bonita la camioneta</td>\n      <td>bueno</td>\n      <td>[bonita, camioneta]</td>\n      <td>[bonito, camioneta]</td>\n      <td>[bonit, camionet]</td>\n    </tr>\n    <tr>\n      <th>2</th>\n      <td>3</td>\n      <td>Quiero más información</td>\n      <td>info</td>\n      <td>[quiero, información]</td>\n      <td>[querer, información]</td>\n      <td>[quier, inform]</td>\n    </tr>\n    <tr>\n      <th>3</th>\n      <td>4</td>\n      <td>:( igual el crédito ha de ser muuuucho</td>\n      <td>malo</td>\n      <td>[:(, igual, crédito, ser, muuuucho]</td>\n      <td>[:(, igual, crédito, ser, muuuucho]</td>\n      <td>[:(, igual, credit, ser, muuuuch]</td>\n    </tr>\n    <tr>\n      <th>4</th>\n      <td>5</td>\n      <td>Quisiera, más información, pero nadie me respo...</td>\n      <td>info</td>\n      <td>[quisiera, información, nadie, responde]</td>\n      <td>[querer, información, nadie, responder]</td>\n      <td>[quis, inform, nadi, respond]</td>\n    </tr>\n  </tbody>\n</table>\n</div>"
     },
     "execution_count": 6,
     "metadata": {},
     "output_type": "execute_result"
    }
   ],
   "source": [
    "# Se visualiza data incluyendo tokens, lemas y raices\n",
    "data.head()"
   ],
   "metadata": {
    "collapsed": false,
    "ExecuteTime": {
     "end_time": "2023-07-24T04:09:12.967853100Z",
     "start_time": "2023-07-24T04:09:12.924439800Z"
    }
   }
  },
  {
   "cell_type": "markdown",
   "source": [
    "### División de la muestra en entrenamiento y test"
   ],
   "metadata": {
    "collapsed": false
   }
  },
  {
   "cell_type": "code",
   "execution_count": 7,
   "outputs": [],
   "source": [
    "X = data.drop('tipo', axis=1)\n",
    "y = data['tipo']\n",
    "X_train, X_test, y_train, y_test = train_test_split(X, y, test_size=0.2, random_state=42)\n",
    "\n",
    "data_train = pd.concat([X_train, y_train], axis=1)\n",
    "data_test = pd.concat([X_test, y_test], axis=1)"
   ],
   "metadata": {
    "collapsed": false,
    "ExecuteTime": {
     "end_time": "2023-07-24T04:09:13.021557300Z",
     "start_time": "2023-07-24T04:09:12.966857700Z"
    }
   }
  },
  {
   "cell_type": "code",
   "execution_count": 8,
   "outputs": [
    {
     "name": "stdout",
     "output_type": "stream",
     "text": [
      "data_train tiene 480 registros y 6 columnas.\n",
      "data_test tiene 120 registros y 6 columnas.\n"
     ]
    }
   ],
   "source": [
    "# Cantidad de registros para train y test\n",
    "print(\"data_train tiene\", data_train.shape[0], \"registros y\", data_train.shape[1], \"columnas.\")\n",
    "print(\"data_test tiene\", data_test.shape[0], \"registros y\", data_test.shape[1], \"columnas.\")"
   ],
   "metadata": {
    "collapsed": false,
    "ExecuteTime": {
     "end_time": "2023-07-24T04:09:13.106049Z",
     "start_time": "2023-07-24T04:09:12.999568800Z"
    }
   }
  },
  {
   "cell_type": "markdown",
   "source": [],
   "metadata": {
    "collapsed": false
   }
  },
  {
   "cell_type": "markdown",
   "source": [
    "### Distribución del target según muestra, train y test"
   ],
   "metadata": {
    "collapsed": false
   }
  },
  {
   "cell_type": "code",
   "execution_count": 9,
   "outputs": [
    {
     "data": {
      "text/plain": "<Figure size 1500x400 with 3 Axes>",
      "image/png": "[encoded data removed]"
     },
     "metadata": {},
     "output_type": "display_data"
    }
   ],
   "source": [
    "# Calcular porcentajes de muestra\n",
    "data_total = len(data)\n",
    "data_counts = data['tipo'].value_counts()\n",
    "data_porcentaje = data_counts / data_total * 100\n",
    "\n",
    "# Calcular porcentajes de train\n",
    "train_total = len(data_train)\n",
    "train_counts = data_train['tipo'].value_counts()\n",
    "train_porcentaje = train_counts / train_total * 100\n",
    "\n",
    "# Calcular porcentajes de test\n",
    "test_total = len(data_test)\n",
    "test_counts = data_test['tipo'].value_counts()\n",
    "test_porcentaje = test_counts / test_total * 100\n",
    "\n",
    "# Figura, subplots y colores para cada categoría\n",
    "fig, (ax1, ax2, ax3) = plt.subplots(1, 3, figsize=(15, 4))\n",
    "colors = {'malo': 'red', 'bueno': 'blue', 'info': 'gray'}\n",
    "\n",
    "# Gráfico de barras para muestra\n",
    "x_data = range(len(data_porcentaje))\n",
    "ax1.bar(x_data, data_porcentaje, align='center', color=[colors.get(t, 'gray') for t in data_porcentaje.index])\n",
    "ax1.set_title('Porcentajes del target en Data')\n",
    "ax1.set_xticks(x_data)\n",
    "ax1.set_xticklabels(data_porcentaje.index)\n",
    "for i, percentage in enumerate(data_porcentaje):\n",
    "    ax1.text(i, percentage, f'{percentage:.1f}%', ha='center', va='bottom')\n",
    "\n",
    "# Gráfico de barras para train\n",
    "x_train = range(len(train_porcentaje))\n",
    "ax2.bar(x_train, train_porcentaje, align='center', color=[colors.get(t, 'gray') for t in train_porcentaje.index])\n",
    "ax2.set_title('Porcentajes del target en Train')\n",
    "ax2.set_xticks(x_train)\n",
    "ax2.set_xticklabels(train_porcentaje.index)\n",
    "for i, percentage in enumerate(train_porcentaje):\n",
    "    ax2.text(i, percentage, f'{percentage:.1f}%', ha='center', va='bottom')\n",
    "\n",
    "# Gráfico de barras para test\n",
    "x_test = range(len(test_porcentaje))\n",
    "ax3.bar(x_test, test_porcentaje, align='center', color=[colors.get(t, 'gray') for t in test_porcentaje.index])\n",
    "ax3.set_title('Porcentajes del target en Test')\n",
    "ax3.set_xticks(x_test)\n",
    "ax3.set_xticklabels(test_porcentaje.index)\n",
    "for i, percentage in enumerate(test_porcentaje):\n",
    "    ax3.text(i, percentage, f'{percentage:.1f}%', ha='center', va='bottom')\n",
    "\n",
    "plt.tight_layout()\n",
    "plt.show()"
   ],
   "metadata": {
    "collapsed": false,
    "ExecuteTime": {
     "end_time": "2023-07-24T04:09:14.021435800Z",
     "start_time": "2023-07-24T04:09:13.029958900Z"
    }
   }
  },
  {
   "cell_type": "markdown",
   "source": [
    "### Representación Vectorial"
   ],
   "metadata": {
    "collapsed": false
   }
  },
  {
   "cell_type": "code",
   "execution_count": 10,
   "outputs": [],
   "source": [
    "tfidf = TfidfVectorizer(token_pattern='\\w+|:\\)|:\\(|[^.,;\\s]')\n",
    "\n",
    "# Se ajusta con los datos de entrenamiento X_train\n",
    "tfidf_X_train = tfidf.fit_transform(X_train)\n",
    "\n",
    "# Se transforma con los datos de X_test\n",
    "tfidf_X_test = tfidf.transform(X_test)"
   ],
   "metadata": {
    "collapsed": false,
    "ExecuteTime": {
     "end_time": "2023-07-24T04:09:14.203191200Z",
     "start_time": "2023-07-24T04:09:14.024447800Z"
    }
   }
  },
  {
   "cell_type": "code",
   "execution_count": 11,
   "outputs": [
    {
     "name": "stdout",
     "output_type": "stream",
     "text": [
      "   comentario  lemas  orden  raices  tokens\n",
      "0         0.0    0.0    1.0     0.0     0.0\n",
      "1         1.0    0.0    0.0     0.0     0.0\n",
      "2         0.0    0.0    0.0     0.0     1.0\n",
      "3         0.0    1.0    0.0     0.0     0.0\n",
      "4         0.0    0.0    0.0     1.0     0.0\n",
      "\n",
      "La forma de la matriz TF-IDF es: (5, 5)\n"
     ]
    }
   ],
   "source": [
    "feature_names = tfidf.get_feature_names_out()\n",
    "\n",
    "# Se crea un DataFrame para mostrar la matriz tf-idf\n",
    "tfidf_df = pd.DataFrame(np.round(tfidf_X_train.toarray(), 3), columns=feature_names)\n",
    "\n",
    "print(tfidf_df)\n",
    "print('\\nLa forma de la matriz TF-IDF es:', tfidf_X_train.shape)"
   ],
   "metadata": {
    "collapsed": false,
    "ExecuteTime": {
     "end_time": "2023-07-24T04:09:14.203760300Z",
     "start_time": "2023-07-24T04:09:14.057200Z"
    }
   }
  }
 ],
 "metadata": {
  "kernelspec": {
   "display_name": "Python 3",
   "language": "python",
   "name": "python3"
  },
  "language_info": {
   "codemirror_mode": {
    "name": "ipython",
    "version": 2
   },
   "file_extension": ".py",
   "mimetype": "text/x-python",
   "name": "python",
   "nbconvert_exporter": "python",
   "pygments_lexer": "ipython2",
   "version": "2.7.6"
  }
 },
 "nbformat": 4,
 "nbformat_minor": 0
}
